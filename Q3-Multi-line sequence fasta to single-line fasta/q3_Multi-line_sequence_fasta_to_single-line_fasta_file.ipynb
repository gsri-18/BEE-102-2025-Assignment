{
 "cells": [
  {
   "cell_type": "markdown",
   "id": "b85cef79",
   "metadata": {},
   "source": [
    "# Converting Multi-line FASTA to Single-line FASTA (Memory-Efficient)\n",
    "\n",
    "FASTA files store DNA, RNA, or protein sequences. For readability, sequences are often split across multiple lines — typically 60-80 characters wide.\n",
    "\n",
    "However, **this formatting breaks simple string searches**, especially if the query spans across line breaks.\n",
    "\n",
    "This notebook converts multi-line FASTA files into a single-line FASTA format, preserving headers and merging each sequence into a continuous string.\n",
    "\n",
    "## Goals:\n",
    "- Handle very large sequences (e.g., entire chromosomes) **efficiently**.\n",
    "- Avoid loading entire sequences into memory.\n",
    "- Maintain fast and clean output generation.\n"
   ]
  },
  {
   "cell_type": "code",
   "execution_count": 1,
   "id": "0a9a9339",
   "metadata": {},
   "outputs": [],
   "source": [
    "def multiline_to_singleline_fasta(input_path, output_path):\n",
    "    \"\"\"\n",
    "    Convert a multi-line FASTA file to a single-line FASTA file with minimal memory usage.\n",
    "\n",
    "    FASTA format often contains sequences broken into multiple lines for readability.\n",
    "    This function rewrites such files so that each sequence appears as a single continuous line,\n",
    "    immediately following its header line. This is important for tools and pipelines that expect\n",
    "    FASTA files in single-line format for consistency or performance.\n",
    "\n",
    "    Parameters:\n",
    "    ----------\n",
    "    input_path : str\n",
    "        Path to the input FASTA file in multi-line format.\n",
    "    output_path : str\n",
    "        Path to the output FASTA file where each sequence is written as a single line.\n",
    "\n",
    "    Memory Consideration:\n",
    "    ---------------------\n",
    "    This implementation avoids using in-memory lists or string concatenation, which are inefficient\n",
    "    for very large sequences (e.g., human chromosomes can exceed 200 million base pairs).\n",
    "    Instead, sequence lines are written directly to the output file as they are read,\n",
    "    keeping memory usage constant regardless of sequence length.\n",
    "\n",
    "    Behavior:\n",
    "    ---------\n",
    "    - Header lines (starting with '>') are preserved.\n",
    "    - Sequence lines are merged into a single continuous line following each header.\n",
    "    - Final newline is added at the end of the last sequence.\n",
    "    - Empty lines are ignored silently (can be handled if needed).\n",
    "\n",
    "    Example:\n",
    "    -------\n",
    "    Input:\n",
    "        >seq1\n",
    "        ACTG\n",
    "        TGCA\n",
    "        >seq2\n",
    "        GATTACA\n",
    "\n",
    "    Output:\n",
    "        >seq1\n",
    "        ACTGTGCA\n",
    "        >seq2\n",
    "        GATTACA\n",
    "    \"\"\"\n",
    "    with open(input_path, 'r') as infile, open(output_path, 'w') as outfile:\n",
    "        header = None                    # Stores the current header line\n",
    "        first_sequence_line = True       # Flag to control newline writing before sequences\n",
    "\n",
    "        for line in infile:\n",
    "            line = line.rstrip()         # Remove trailing newline and spaces\n",
    "            if not line:\n",
    "                continue                 # Skip empty lines \n",
    "            if line.startswith('>'):\n",
    "                if header is not None:\n",
    "                    # End of previous record; write newline to finish sequence\n",
    "                    outfile.write('\\n')\n",
    "                header = line\n",
    "                outfile.write(header + '\\n')\n",
    "                first_sequence_line = True\n",
    "            else:\n",
    "                # Sequence line: write directly without buffering\n",
    "                outfile.write(line)\n",
    "                first_sequence_line = False\n",
    "\n",
    "        # Ensure output ends with newline (especially for the last sequence)\n",
    "        outfile.write('\\n')\n"
   ]
  },
  {
   "cell_type": "code",
   "execution_count": 2,
   "id": "87230f4a",
   "metadata": {},
   "outputs": [
    {
     "name": "stdout",
     "output_type": "stream",
     "text": [
      "Preview of Converted FASTA File:\n",
      ">1\n",
      "TCCAATTGAGCTATACCGTCAGAAGTAGATGAGATCTAACGGCGCGCCCGGTTGTCGCAGCCACGCTAGGCACAGTCAAAGCAGTGACCCAGCCCTTCAGACGTTACTGTGAAAATCTGTCCACCGAGAACGCTTTCAAAATATATTAGCGGTTTAAGCTAGGCAAGTCACGGCATGTCCTTACAAAAGCCTACGAGCCGGGCCACATTATGTCGCCCATAAGATGCCAATACAATCTCAAGTAGGATAAGCATGTCTTACCACTAGCGTTCTGTGTTTGTGGGGTTACGCGTTGTGTTACCAACGGTCCCCTATAGCTCAGCAGTAATAAGTTTTATTGTGCTCAAGGCC\n",
      ">2\n",
      "GATAGCGACGACGCTAGTTCCTAGGGACCCGGGGGGGATCAGTGGTGACGGTATGCTCTTGCTGGTGCGACCCGTAACGAAGTCACATGGGTAGTGGCGGCACAGGATATCGTAGTGACAGGAACCTGATATTCCGTTGCAGAACACACGCGACAATCTACAAGTTATTTTCGGCTGAGTTACTTACTCACAAGATCCACATGGAAATTTAATATACGACGCTGAGGAGGGTTGCACAACGGCTCTCTTTCCTAAGAACAGAATTGCCTAAGAATTCAGAGCTCAAAGGCTCCATTTCTTGAGGTATGGTCGTCGGTATATTAACGGTGCTA\n",
      ">3\n",
      "GCCTATCTCACATGATAACCAGGTCTAGTTATGCTATTCATATACCTACTGTGTCCACTTTCTGTACTCCACGCGCGTACATAAGTACTGGAGTTAAATACAATGAAACGATGCAAGATGGGCTAAAGTTCAAGGAGGAGCTCTGCCATATCATTCTCTACAGCAAGACTGGGGCTCTGGGAATGGAGATAAAAAGGAGTTACATGCACGTAAAGTCGCCATCCATGCTACTTTGTTTGGCGCGGGGAACGCCCCGCCCTACTATTCATATGTCTACAC\n",
      ">4\n",
      "GTAACCCTATAGTCAGGAGGTCACCCGTGATGTTAAGGCG\n",
      "...\n"
     ]
    }
   ],
   "source": [
    "# Example usage on given sample\n",
    "\n",
    "input_file = 'multiline_input.fasta'\n",
    "output_file = 'singleline_output.fasta'\n",
    "\n",
    "multiline_to_singleline_fasta(input_file, output_file)\n",
    "\n",
    "# Display only first few lines of output file for the sake of readability\n",
    "print(\"Preview of Converted FASTA File:\")\n",
    "with open(output_file) as f:\n",
    "    for i, line in enumerate(f):\n",
    "        print(line.rstrip())\n",
    "        if i > 6:  # only show 3 sequences max\n",
    "            print(\"...\")\n",
    "            break\n",
    "\n"
   ]
  },
  {
   "cell_type": "markdown",
   "id": "35aaa348",
   "metadata": {},
   "source": [
    "# Progress up till now\n",
    "\n",
    "We successfully converted a multi-line FASTA file to a single-line FASTA format in a **memory-efficient** manner suitable for huge genome sequences.\n",
    "\n",
    "- The solution scales well without exhausting memory.\n",
    "- Sequences are stored contiguously, simplifying downstream searches.\n",
    "- This approach balances performance, simplicity, and scalability.\n",
    "\n",
    "You can now reliably search or analyze sequences without worrying about line breaks interfering with your queries."
   ]
  },
  {
   "cell_type": "code",
   "execution_count": 3,
   "id": "8de94826",
   "metadata": {},
   "outputs": [
    {
     "name": "stdout",
     "output_type": "stream",
     "text": [
      "Total Sequences: 50\n",
      "Total Bases: 12,398\n"
     ]
    }
   ],
   "source": [
    "def fasta_stats(fasta_path):\n",
    "    count = 0\n",
    "    total_bases = 0\n",
    "    with open(fasta_path) as f:\n",
    "        for line in f:\n",
    "            line = line.rstrip()\n",
    "            if line.startswith('>'):\n",
    "                count += 1\n",
    "            else:\n",
    "                total_bases += len(line)\n",
    "    return count, total_bases\n",
    "\n",
    "seq_count, base_count = fasta_stats(output_file)\n",
    "print(f\"Total Sequences: {seq_count:,}\")\n",
    "print(f\"Total Bases: {base_count:,}\")\n",
    "\n",
    "\n"
   ]
  },
  {
   "cell_type": "markdown",
   "id": "c577f91a",
   "metadata": {},
   "source": [
    "\n",
    "# Demonstrating Search Failure & Success Due to Line Breaks\n",
    "\n",
    "Let's pick a sequence that spans a **fixed-width boundary** (e.g., position 60-61) in the multiline FASTA file. We will try to search for this sequence in both:\n",
    "\n",
    "- the original multiline FASTA (where the boundary splits the line), and  \n",
    "- the converted single-line FASTA (where no breaks exist).\n",
    "\n",
    "We'll demonstrate how such a search fails in the former and succeeds in the latter.\n",
    "\n",
    "Select a real breakpoint — use the first sequence for simplicity\n"
   ]
  },
  {
   "cell_type": "code",
   "execution_count": 4,
   "id": "74bdd89b",
   "metadata": {},
   "outputs": [
    {
     "name": "stdout",
     "output_type": "stream",
     "text": [
      "Searching for substring across line break: CGCAGCCACG\n",
      "Found in multiline FASTA? False\n",
      "Found in single-line FASTA? True\n",
      "\n",
      "Match context in single-line FASTA:\n",
      " CTAACGGCGCGCCCGGTTGT[CGCAGCCACG]CTAGGCACAGTCAAAGCAGT\n"
     ]
    }
   ],
   "source": [
    "# Pick a sequence that actually spans a 60-character boundary\n",
    "breakpoint_string = \"\"\n",
    "with open(input_file) as f:\n",
    "    prev_line = \"\"\n",
    "    for line in f:\n",
    "        line = line.strip()\n",
    "        if line.startswith('>'):\n",
    "            prev_line = \"\"\n",
    "            continue\n",
    "        if len(prev_line) == 60 and len(line) > 5:\n",
    "            # Take last 5 bases from prev_line and first 5 from current\n",
    "            breakpoint_string = prev_line[-5:] + line[:5]\n",
    "            break\n",
    "        prev_line = line\n",
    "\n",
    "print(f\"Searching for substring across line break: {breakpoint_string}\")\n",
    "\n",
    "def search_in_file(file_path, query):\n",
    "    with open(file_path) as f:\n",
    "        content = f.read()\n",
    "        return query in content, content\n",
    "\n",
    "found_in_multiline, _ = search_in_file(input_file, breakpoint_string)\n",
    "found_in_singleline, singleline_content = search_in_file(output_file, breakpoint_string)\n",
    "\n",
    "print(f\"Found in multiline FASTA? {found_in_multiline}\")\n",
    "print(f\"Found in single-line FASTA? {found_in_singleline}\")\n",
    "\n",
    "def preview_match_context(text, query, radius=20):\n",
    "    idx = text.find(query)\n",
    "    if idx == -1:\n",
    "        return \"Query not found\"\n",
    "    start = max(0, idx - radius)\n",
    "    end = min(len(text), idx + len(query) + radius)\n",
    "    return text[start:end].replace(query, f\"[{query}]\")\n",
    "\n",
    "if found_in_singleline:\n",
    "    context = preview_match_context(singleline_content, breakpoint_string)\n",
    "    print(\"\\nMatch context in single-line FASTA:\\n\", context)\n"
   ]
  },
  {
   "cell_type": "markdown",
   "id": "6a9bfc11",
   "metadata": {},
   "source": [
    "## Final Conclusion\n",
    "\n",
    "Searching for substrings that span fixed-width boundaries (like every 60 bases) in a multi-line FASTA file often fails, since the sequence is broken across lines.  \n",
    "Our demonstration showed that the string `CGCAGC...` across positions 60-61 could **not be found** in the multi-line format, but **was found** after converting to single-line format.\n",
    "\n",
    "**Key takeaway**: Converting FASTA to a single-line format is essential for accurate and seamless sequence querying — especially when dealing with motifs, primers, or gene annotations that may lie near line breaks.\n",
    "\n",
    "This approach not only resolves biological string search issues but also scales to genome-sized data efficiently.\n"
   ]
  }
 ],
 "metadata": {
  "kernelspec": {
   "display_name": "base",
   "language": "python",
   "name": "python3"
  },
  "language_info": {
   "codemirror_mode": {
    "name": "ipython",
    "version": 3
   },
   "file_extension": ".py",
   "mimetype": "text/x-python",
   "name": "python",
   "nbconvert_exporter": "python",
   "pygments_lexer": "ipython3",
   "version": "3.12.4"
  }
 },
 "nbformat": 4,
 "nbformat_minor": 5
}
