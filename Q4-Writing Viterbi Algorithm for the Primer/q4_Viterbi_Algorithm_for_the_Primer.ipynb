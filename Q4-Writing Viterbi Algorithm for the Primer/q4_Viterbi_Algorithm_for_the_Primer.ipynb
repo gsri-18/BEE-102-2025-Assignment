{
 "cells": [
  {
   "cell_type": "markdown",
   "id": "3093af26",
   "metadata": {},
   "source": [
    "# Viterbi Algorithm for Nature Primer (3 Marks)\n",
    "\n",
    "This notebook implements the Viterbi algorithm for a Hidden Markov Model (HMM),  \n",
    "as described in the Nature Primer, to classify DNA sequences into Exon (E), Intron (I), or Splice Site (5).\n",
    "\n",
    "We will:\n",
    "1. Define the required HMM parameters.\n",
    "2. Write a function to calculate the log-probability of a given state path.\n",
    "3. Implement the full Viterbi algorithm to compute the most likely state sequence.\n"
   ]
  },
  {
   "cell_type": "code",
   "execution_count": 1,
   "id": "8153dfce",
   "metadata": {},
   "outputs": [],
   "source": [
    "# Importing Libraries\n",
    "# ---------------------------\n",
    "import numpy as np\n",
    "import math\n"
   ]
  },
  {
   "cell_type": "markdown",
   "id": "7cf077ea",
   "metadata": {},
   "source": [
    "## Step 1: Define Model Parameters\n",
    "\n",
    "We define:\n",
    "- Hidden states: E (Exon), 5 (Splice site), I (Intron)\n",
    "- Observations: A, C, G, T\n",
    "- Initial probabilities\n",
    "- Transition probabilities\n",
    "- Emission probabilities\n"
   ]
  },
  {
   "cell_type": "code",
   "execution_count": 2,
   "id": "b5e6c8be",
   "metadata": {},
   "outputs": [],
   "source": [
    "# HMM Parameters - States and Observations\n",
    "# ------------------------------------------------\n",
    "# States: Exon (E), Intron (I), and a splice site (5)\n",
    "states = ['E', '5', 'I']\n",
    "\n",
    "# Observations: Nucleotides (A, C, G, T)\n",
    "nucleotides = ['A', 'C', 'G', 'T']\n",
    "\n",
    "# Initial probabilities for each state\n",
    "initial_probabilities = {'E': 1.0, '5': 0.0, 'I': 0.0}\n",
    "\n",
    "\n",
    "# Transition matrix: Probabilities of moving from one state to another\n",
    "transition_probabilities = {\n",
    "    'Start': {'E': 1.0, '5': 0.0, 'I': 0.0, 'End': 0.0},\n",
    "    'E': {'E': 0.9, '5': 0.1, 'I': 0.0, 'End': 0.0},\n",
    "    '5': {'E': 0.0, '5': 0.0, 'I': 1.0, 'End': 0.0},\n",
    "    'I': {'E': 0.0, '5': 0.0, 'I': 0.9, 'End': 0.1}\n",
    "}\n",
    "\n",
    "# Emission probabilities: Probability of emitting nucleotides (A, C, G, T) in each state\n",
    "emission_probs = {\n",
    "    'E': {'A': 0.25, 'C': 0.25, 'G': 0.25, 'T': 0.25},\n",
    "    '5': {'A': 0.05, 'C': 0.00, 'G': 0.95, 'T': 0.00},\n",
    "    'I': {'A': 0.4, 'C': 0.1, 'G': 0.1, 'T': 0.4},\n",
    "}\n",
    "\n",
    "\n",
    "\n",
    "\n"
   ]
  },
  {
   "cell_type": "markdown",
   "id": "e06960b4",
   "metadata": {},
   "source": [
    "## Step 2: Compute Log Probability of a Given Path\n",
    "\n",
    "This function takes a state path and an observed nucleotide sequence,  \n",
    "and returns the log-probability of that path producing the sequence.\n"
   ]
  },
  {
   "cell_type": "code",
   "execution_count": 3,
   "id": "86829a8e",
   "metadata": {},
   "outputs": [],
   "source": [
    "# Safe Logarithm Function\n",
    "# -------------------------------\n",
    "# Utility function to compute logarithms safely\n",
    "def safe_log(x):\n",
    "    return -math.inf if x == 0 else math.log(x)\n"
   ]
  },
  {
   "cell_type": "code",
   "execution_count": 4,
   "id": "d461d394",
   "metadata": {},
   "outputs": [],
   "source": [
    "# Function to compute the log probability of a state path emitting an observed sequence\n",
    "def get_log_prob_of_a_given_path(state_path, observed_sequence):\n",
    "    log_prob = 0.0\n",
    "    if len(state_path) != len(observed_sequence):\n",
    "        raise ValueError(\"The length of state path and the observed sequence must be the same\")\n",
    "    prev_state = 'Start'\n",
    "    for i in range(len(observed_sequence)):\n",
    "        current_state = state_path[i]\n",
    "        observed_state = observed_sequence[i]\n",
    "        log_prob += safe_log(transition_probabilities[prev_state][current_state]) + \\\n",
    "                    safe_log(emission_probs[current_state][observed_state])\n",
    "        prev_state = current_state\n",
    "    if prev_state == 'I':\n",
    "        log_prob += safe_log(transition_probabilities[prev_state]['End'])\n",
    "    return log_prob\n",
    "\n"
   ]
  },
  {
   "cell_type": "code",
   "execution_count": null,
   "id": "6211e53b",
   "metadata": {},
   "outputs": [
    {
     "name": "stdout",
     "output_type": "stream",
     "text": [
      "-41.21967768602254\n"
     ]
    }
   ],
   "source": [
    "# state_path = \"EEEEEEEEEEEEEEEEEEE5IIIIIII\"\n",
    "state_path = \"EEEEEEEEEEEEEEEEEE5IIIIIII\"\n",
    "observed_sequence = \"CTTCATGTGAAAGCAGACGTAAGTCA\"\n",
    "ans = get_log_prob_of_a_given_path(state_path, observed_sequence)\n",
    "print(ans)\n"
   ]
  },
  {
   "cell_type": "markdown",
   "id": "2b24c742",
   "metadata": {},
   "source": [
    "## Step 3: Viterbi Algorithm\n",
    "\n",
    "This function implements the dynamic programming Viterbi algorithm  \n",
    "to find the most probable sequence of hidden states that could generate a given DNA sequence.\n"
   ]
  },
  {
   "cell_type": "code",
   "execution_count": 6,
   "id": "8f1329d8",
   "metadata": {},
   "outputs": [],
   "source": [
    "# Implementation of the Viterbi algorithm\n",
    "def viterbi_algo(observed_sequence):\n",
    "    num_states = len(states)\n",
    "    num_observations = len(observed_sequence)\n",
    "    viterbi_matrix = np.full((num_states, num_observations), -np.inf)\n",
    "    backpointers = np.zeros((num_states, num_observations), dtype=int)\n",
    "    state_to_index = {s: i for i, s in enumerate(states)}\n",
    "\n",
    "    # Initialize the DP table\n",
    "    for i, state in enumerate(states):\n",
    "        viterbi_matrix[i, 0] = safe_log(initial_probabilities[state]) + \\\n",
    "                               safe_log(emission_probs[state][observed_sequence[0]])\n",
    "\n",
    "    # Recursive computation\n",
    "    for t in range(1, num_observations):\n",
    "        for curr_idx, curr_state in enumerate(states):\n",
    "            max_log_prob = -np.inf\n",
    "            best_prev_idx = 0\n",
    "            for prev_idx, prev_state in enumerate(states):\n",
    "                log_prob = viterbi_matrix[prev_idx, t - 1] + \\\n",
    "                           safe_log(transition_probabilities[prev_state][curr_state])\n",
    "                if log_prob > max_log_prob:\n",
    "                    max_log_prob = log_prob\n",
    "                    best_prev_idx = prev_idx\n",
    "            viterbi_matrix[curr_idx, t] = max_log_prob + \\\n",
    "                                          safe_log(emission_probs[curr_state][observed_sequence[t]])\n",
    "            backpointers[curr_idx, t] = best_prev_idx\n",
    "\n",
    "    # Backtracking to find the best path\n",
    "    best_path = []\n",
    "    best_final_idx = np.argmax(viterbi_matrix[:, -1])\n",
    "    best_path.append(states[best_final_idx])\n",
    "\n",
    "    for t in range(num_observations - 1, 0, -1):\n",
    "        best_final_idx = backpointers[best_final_idx, t]\n",
    "        best_path.insert(0, states[best_final_idx])\n",
    "\n",
    "    return best_path, np.max(viterbi_matrix[:, -1])\n"
   ]
  },
  {
   "cell_type": "code",
   "execution_count": 7,
   "id": "9bafa954",
   "metadata": {},
   "outputs": [
    {
     "name": "stdout",
     "output_type": "stream",
     "text": [
      "Most probable path is ['E', 'E', 'E', 'E', 'E', 'E', 'E', 'E', 'E', 'E', 'E', 'E', 'E', 'E', 'E', 'E', 'E', 'E', 'E', 'E', 'E', 'E', 'E', 'E', 'E', 'E']\n",
      "Log probability of the path is -38.677666280562796\n"
     ]
    }
   ],
   "source": [
    "# Example Usage of Viterbi Algorithm\n",
    "# -------------------------------------------\n",
    "observed_sequence = \"CTTCATGTGAAAGCAGACGTAAGTCA\"\n",
    "best_path, log_prob = viterbi_algo(observed_sequence)\n",
    "print(f\"Most probable path is {best_path}\")\n",
    "print(f\"Log probability of the path is {log_prob}\")\n"
   ]
  },
  {
   "cell_type": "code",
   "execution_count": null,
   "id": "4a0a592d",
   "metadata": {},
   "outputs": [],
   "source": []
  }
 ],
 "metadata": {
  "kernelspec": {
   "display_name": "base",
   "language": "python",
   "name": "python3"
  },
  "language_info": {
   "codemirror_mode": {
    "name": "ipython",
    "version": 3
   },
   "file_extension": ".py",
   "mimetype": "text/x-python",
   "name": "python",
   "nbconvert_exporter": "python",
   "pygments_lexer": "ipython3",
   "version": "3.12.4"
  }
 },
 "nbformat": 4,
 "nbformat_minor": 5
}
